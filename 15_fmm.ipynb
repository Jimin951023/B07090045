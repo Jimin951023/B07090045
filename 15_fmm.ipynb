{
  "nbformat": 4,
  "nbformat_minor": 0,
  "metadata": {
    "colab": {
      "name": "15.fmm.ipynb",
      "provenance": [],
      "authorship_tag": "ABX9TyObTrn1KN4pMxG4w60vKCUi",
      "include_colab_link": true
    },
    "kernelspec": {
      "name": "python3",
      "display_name": "Python 3"
    },
    "language_info": {
      "name": "python"
    }
  },
  "cells": [
    {
      "cell_type": "markdown",
      "metadata": {
        "id": "view-in-github",
        "colab_type": "text"
      },
      "source": [
        "<a href=\"https://colab.research.google.com/github/Jimin951023/B07090045/blob/main/15_fmm.ipynb\" target=\"_parent\"><img src=\"https://colab.research.google.com/assets/colab-badge.svg\" alt=\"Open In Colab\"/></a>"
      ]
    },
    {
      "cell_type": "markdown",
      "source": [
        "FMM 正向最大符合（Forward Maximum Matching)\n",
        "英文有明確的空格當作字詞分隔，因此很容易進行例如n-grams的操作。但是中文無明確的字詞分隔\n",
        "因此中文必須進行\"斷詞(分詞)\"的工作\n",
        "除了查字典進行斷詞工作外，FMM是從前向後，掃描句子中的字串，儘量找到詞典中較長的單字，作為分詞的結果\n",
        "本範例需上傳lexicon.txt 下載：https://raw.githubusercontent.com/joshhu/nlp_must2022/main/lexicon.txt"
      ],
      "metadata": {
        "id": "lzYRD8l7_H2U"
      }
    },
    {
      "cell_type": "code",
      "execution_count": 1,
      "metadata": {
        "colab": {
          "base_uri": "https://localhost:8080/",
          "height": 358
        },
        "id": "PdR_PSlz_E_K",
        "outputId": "f22ec2a0-22fd-407c-e8b9-9bff3e9cfe37"
      },
      "outputs": [
        {
          "output_type": "error",
          "ename": "FileNotFoundError",
          "evalue": "ignored",
          "traceback": [
            "\u001b[0;31m---------------------------------------------------------------------------\u001b[0m",
            "\u001b[0;31mFileNotFoundError\u001b[0m                         Traceback (most recent call last)",
            "\u001b[0;32m<ipython-input-1-108645c9c89f>\u001b[0m in \u001b[0;36m<module>\u001b[0;34m()\u001b[0m\n\u001b[1;32m     26\u001b[0m     \u001b[0;32mreturn\u001b[0m \u001b[0mwords\u001b[0m\u001b[0;34m\u001b[0m\u001b[0;34m\u001b[0m\u001b[0m\n\u001b[1;32m     27\u001b[0m \u001b[0;34m\u001b[0m\u001b[0m\n\u001b[0;32m---> 28\u001b[0;31m \u001b[0mlexicon\u001b[0m\u001b[0;34m,\u001b[0m \u001b[0mmax_len\u001b[0m \u001b[0;34m=\u001b[0m \u001b[0mload_dict\u001b[0m\u001b[0;34m(\u001b[0m\u001b[0;34m)\u001b[0m\u001b[0;34m\u001b[0m\u001b[0;34m\u001b[0m\u001b[0m\n\u001b[0m\u001b[1;32m     29\u001b[0m \u001b[0mwords\u001b[0m \u001b[0;34m=\u001b[0m \u001b[0mfmm_word_seg\u001b[0m\u001b[0;34m(\u001b[0m\u001b[0minput\u001b[0m\u001b[0;34m(\u001b[0m\u001b[0;34m\"輸入句字：\"\u001b[0m\u001b[0;34m)\u001b[0m\u001b[0;34m,\u001b[0m \u001b[0mlexicon\u001b[0m\u001b[0;34m,\u001b[0m \u001b[0mmax_len\u001b[0m\u001b[0;34m)\u001b[0m\u001b[0;34m\u001b[0m\u001b[0;34m\u001b[0m\u001b[0m\n\u001b[1;32m     30\u001b[0m \u001b[0;34m\u001b[0m\u001b[0m\n",
            "\u001b[0;32m<ipython-input-1-108645c9c89f>\u001b[0m in \u001b[0;36mload_dict\u001b[0;34m()\u001b[0m\n\u001b[1;32m      1\u001b[0m \u001b[0;32mdef\u001b[0m \u001b[0mload_dict\u001b[0m\u001b[0;34m(\u001b[0m\u001b[0;34m)\u001b[0m\u001b[0;34m:\u001b[0m\u001b[0;34m\u001b[0m\u001b[0;34m\u001b[0m\u001b[0m\n\u001b[0;32m----> 2\u001b[0;31m     \u001b[0mf\u001b[0m \u001b[0;34m=\u001b[0m \u001b[0mopen\u001b[0m\u001b[0;34m(\u001b[0m\u001b[0;34m\"lexicon.txt\"\u001b[0m\u001b[0;34m)\u001b[0m\u001b[0;34m\u001b[0m\u001b[0;34m\u001b[0m\u001b[0m\n\u001b[0m\u001b[1;32m      3\u001b[0m     \u001b[0mlexicon\u001b[0m \u001b[0;34m=\u001b[0m \u001b[0mset\u001b[0m\u001b[0;34m(\u001b[0m\u001b[0;34m)\u001b[0m\u001b[0;34m\u001b[0m\u001b[0;34m\u001b[0m\u001b[0m\n\u001b[1;32m      4\u001b[0m     \u001b[0mmax_len\u001b[0m \u001b[0;34m=\u001b[0m \u001b[0;36m0\u001b[0m\u001b[0;34m\u001b[0m\u001b[0;34m\u001b[0m\u001b[0m\n\u001b[1;32m      5\u001b[0m     \u001b[0;32mfor\u001b[0m \u001b[0mline\u001b[0m \u001b[0;32min\u001b[0m \u001b[0mf\u001b[0m\u001b[0;34m:\u001b[0m\u001b[0;34m\u001b[0m\u001b[0;34m\u001b[0m\u001b[0m\n",
            "\u001b[0;31mFileNotFoundError\u001b[0m: [Errno 2] No such file or directory: 'lexicon.txt'"
          ]
        }
      ],
      "source": [
        "def load_dict():\n",
        "    f = open(\"lexicon.txt\")\n",
        "    lexicon = set()\n",
        "    max_len = 0\n",
        "    for line in f:\n",
        "        word = line.strip()\n",
        "        lexicon.add(word)\n",
        "        if len(word) > max_len:\n",
        "            max_len = len(word)\n",
        "    f.close()\n",
        "\n",
        "    return lexicon, max_len\n",
        "\n",
        "def fmm_word_seg(sentence, lexicon, max_len):\n",
        "    begin = 0\n",
        "    end = min(begin + max_len, len(sentence))\n",
        "    words = []\n",
        "    while begin < end:\n",
        "        word = sentence[begin:end]\n",
        "        if word in lexicon or end - begin == 1:\n",
        "            words.append(word)\n",
        "            begin = end\n",
        "            end = min(begin + max_len, len(sentence))\n",
        "        else:\n",
        "            end -= 1\n",
        "    return words\n",
        "\n",
        "lexicon, max_len = load_dict()\n",
        "words = fmm_word_seg(input(\"輸入句字：\"), lexicon, max_len)\n",
        "\n",
        "for word in words:\n",
        "    print(word,)"
      ]
    },
    {
      "cell_type": "markdown",
      "source": [
        ""
      ],
      "metadata": {
        "id": "rSyWoJfN_HFc"
      }
    }
  ]
}